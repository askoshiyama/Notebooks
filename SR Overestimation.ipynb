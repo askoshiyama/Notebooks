{
 "cells": [
  {
   "cell_type": "code",
   "execution_count": 1,
   "metadata": {},
   "outputs": [],
   "source": [
    "%matplotlib inline\n",
    "import pandas as pd\n",
    "import numpy as np\n",
    "from statsmodels.tsa import ar_model, arima_model, tsatools\n",
    "from sklearn.linear_model import LinearRegression"
   ]
  },
  {
   "cell_type": "code",
   "execution_count": 2,
   "metadata": {},
   "outputs": [],
   "source": [
    "def SR(x):\n",
    "    return (np.mean(x)/np.std(x)) * np.sqrt(252.0)\n",
    "\n",
    "def WN(size):\n",
    "    return pd.DataFrame({\"WN\": np.random.normal(size=size)})\n",
    "\n",
    "def WN_Returns(size, scale):\n",
    "    return pd.DataFrame({\"WN\": np.random.normal(size=size, scale=scale)})\n",
    "\n",
    "def TSCV(index, window_size, warmup_size, expanding=True):\n",
    "    n_windows = int(np.floor((len(index) - warmup_size)/window_size))\n",
    "    tscv_folds = {\"insample\": {}, \"outsample\": {}}\n",
    "    for i in range(n_windows):\n",
    "        if expanding:\n",
    "            tscv_folds[\"insample\"][str(i)] = index[:warmup_size+i*window_size]\n",
    "            tscv_folds[\"outsample\"][str(i)] = index[warmup_size+i*window_size:warmup_size+(i+1)*window_size]\n",
    "            \n",
    "    # last bit\n",
    "    if expanding:\n",
    "        tscv_folds[\"insample\"][str(i+1)] = index[:warmup_size+(i+1)*window_size]\n",
    "        tscv_folds[\"outsample\"][str(i+1)] = index[warmup_size+(i+1)*window_size:]\n",
    "        \n",
    "    return tscv_folds\n",
    "\n",
    "def df_ewma(ts, spans):\n",
    "    df = ts.ewm(span=spans[0]).mean()\n",
    "    df.columns = [\"span_\" + str(spans[0])]\n",
    "    for span in spans[1:]:\n",
    "        data = ts.ewm(span=span).mean()\n",
    "        data.columns = [\"span_\" + str(span)]\n",
    "        df = pd.concat([df, data], axis=1)\n",
    "        \n",
    "    return df\n",
    "\n",
    "def df_lags(ts, lags):\n",
    "    df = ts.shift(lags[0])\n",
    "    df.columns = [\"lag_\" + str(lags[0])]\n",
    "    for lag in lags[1:]:\n",
    "        data = ts.shift(lag)\n",
    "        data.columns = [\"lag_\" + str(lag)]\n",
    "        df = pd.concat([df, data], axis=1)\n",
    "        \n",
    "    return df"
   ]
  },
  {
   "cell_type": "markdown",
   "metadata": {},
   "source": [
    "# Mult Hyp Test vs Perf Eval Diff"
   ]
  },
  {
   "cell_type": "code",
   "execution_count": null,
   "metadata": {},
   "outputs": [],
   "source": [
    "# evaluating well performance, or estimating better generalization error can be gamed, \n",
    "# mainly if it is a fixed approached (window based)"
   ]
  },
  {
   "cell_type": "markdown",
   "metadata": {},
   "source": [
    "## Data and Params"
   ]
  },
  {
   "cell_type": "code",
   "execution_count": 70,
   "metadata": {},
   "outputs": [],
   "source": [
    "# data params\n",
    "data_size = 12000\n",
    "wn_scale = 0.01\n",
    "ts_shift = 1\n",
    "\n",
    "# cv params\n",
    "holdout_size = 2000\n",
    "warmup_size = 5000\n",
    "window_size = 1000\n",
    "expanding = True\n",
    "\n",
    "# model params\n",
    "pred_model = LinearRegression()\n",
    "ewmas_span = np.arange(3, 100).tolist()\n",
    "lags_values = np.arange(0, 100).tolist()\n",
    "\n",
    "# data\n",
    "ts = WN_Returns(data_size, scale=wn_scale)\n",
    "ts_target = ts[ts_shift:].copy()\n",
    "ts_input = ts.shift(ts_shift).dropna()\n",
    "\n",
    "# ts_input = df_ewma(ts_input, ewmas_span)\n",
    "ts_input = df_lags(ts_input, lags_values)\n",
    "\n",
    "ts = pd.concat([ts_target, ts_input], axis=1).dropna()\n",
    "avail_featlist = list(ts_input.columns)\n",
    "ts.columns = [\"target\"] + avail_featlist\n",
    "\n",
    "# cv folds\n",
    "ts_folds = TSCV(list(ts.index)[:-holdout_size], window_size, warmup_size, expanding)\n",
    "ts_folds[\"holdout\"] = list(ts.index)[-holdout_size:]"
   ]
  },
  {
   "cell_type": "markdown",
   "metadata": {},
   "source": [
    "## Feature Selection using Lags - Fixed TSCV"
   ]
  },
  {
   "cell_type": "code",
   "execution_count": 92,
   "metadata": {},
   "outputs": [
    {
     "name": "stdout",
     "output_type": "stream",
     "text": [
      "1 0.5355882464342318 0.6658236135315686 0.2984536044556053\n",
      "['lag_6']\n",
      "2 0.5978561482409529 0.7540912810035096 0.4187323610275606\n",
      "['lag_6', 'lag_5']\n",
      "3 0.6894332729488856 0.8249723899110659 0.14924599948482023\n",
      "['lag_6', 'lag_5', 'lag_70']\n",
      "4 0.7308107324666885 0.8880702997706887 0.16718223764952833\n",
      "['lag_6', 'lag_5', 'lag_70', 'lag_36']\n",
      "5 0.8165358182907828 0.9479729165851418 -0.06499155801767956\n",
      "['lag_6', 'lag_5', 'lag_70', 'lag_36', 'lag_91']\n",
      "6 0.8499048692942476 0.9950218882398109 0.049925457112437406\n",
      "['lag_6', 'lag_5', 'lag_70', 'lag_36', 'lag_91', 'lag_9']\n",
      "7 0.8740128636193719 1.0362706752209896 0.19561736491725368\n",
      "['lag_6', 'lag_5', 'lag_70', 'lag_36', 'lag_91', 'lag_9', 'lag_64']\n",
      "8 0.9155335739636423 1.0698402980809318 0.14991972408792806\n",
      "['lag_6', 'lag_5', 'lag_70', 'lag_36', 'lag_91', 'lag_9', 'lag_64', 'lag_37']\n",
      "9 0.9349574090623226 1.0975569054915857 0.13477987476508585\n",
      "['lag_6', 'lag_5', 'lag_70', 'lag_36', 'lag_91', 'lag_9', 'lag_64', 'lag_37', 'lag_52']\n",
      "10 0.9477383425483566 1.1184023754164114 0.13229213547952412\n",
      "['lag_6', 'lag_5', 'lag_70', 'lag_36', 'lag_91', 'lag_9', 'lag_64', 'lag_37', 'lag_52', 'lag_16']\n",
      "11 0.9815169881272942 1.1336423704600327 0.03558064318105244\n",
      "['lag_6', 'lag_5', 'lag_70', 'lag_36', 'lag_91', 'lag_9', 'lag_64', 'lag_37', 'lag_52', 'lag_16', 'lag_28']\n",
      "12 1.000551175472986 1.150048664643527 0.07422678944244017\n",
      "['lag_6', 'lag_5', 'lag_70', 'lag_36', 'lag_91', 'lag_9', 'lag_64', 'lag_37', 'lag_52', 'lag_16', 'lag_28', 'lag_63']\n",
      "13 1.0077942085220126 1.1650021468092027 0.12143815097854549\n",
      "['lag_6', 'lag_5', 'lag_70', 'lag_36', 'lag_91', 'lag_9', 'lag_64', 'lag_37', 'lag_52', 'lag_16', 'lag_28', 'lag_63', 'lag_35']\n",
      "14 1.0184707965356494 1.1758358135242706 0.027877054444714836\n",
      "['lag_6', 'lag_5', 'lag_70', 'lag_36', 'lag_91', 'lag_9', 'lag_64', 'lag_37', 'lag_52', 'lag_16', 'lag_28', 'lag_63', 'lag_35', 'lag_53']\n",
      "15 1.0379674804716341 1.1864601890957978 -0.0007867524920174677\n",
      "['lag_6', 'lag_5', 'lag_70', 'lag_36', 'lag_91', 'lag_9', 'lag_64', 'lag_37', 'lag_52', 'lag_16', 'lag_28', 'lag_63', 'lag_35', 'lag_53', 'lag_14']\n",
      "16 1.0639486566840342 1.1967387003766041 0.03723886079368473\n",
      "['lag_6', 'lag_5', 'lag_70', 'lag_36', 'lag_91', 'lag_9', 'lag_64', 'lag_37', 'lag_52', 'lag_16', 'lag_28', 'lag_63', 'lag_35', 'lag_53', 'lag_14', 'lag_29']\n",
      "17 1.0920014340525153 1.2082948573059855 0.10413071431251313\n",
      "['lag_6', 'lag_5', 'lag_70', 'lag_36', 'lag_91', 'lag_9', 'lag_64', 'lag_37', 'lag_52', 'lag_16', 'lag_28', 'lag_63', 'lag_35', 'lag_53', 'lag_14', 'lag_29', 'lag_19']\n",
      "18 1.1033447338723845 1.2161138132088332 0.1089367898688365\n",
      "['lag_6', 'lag_5', 'lag_70', 'lag_36', 'lag_91', 'lag_9', 'lag_64', 'lag_37', 'lag_52', 'lag_16', 'lag_28', 'lag_63', 'lag_35', 'lag_53', 'lag_14', 'lag_29', 'lag_19', 'lag_94']\n",
      "19 1.1318064075406726 1.2231185363902695 0.0989217049287264\n",
      "['lag_6', 'lag_5', 'lag_70', 'lag_36', 'lag_91', 'lag_9', 'lag_64', 'lag_37', 'lag_52', 'lag_16', 'lag_28', 'lag_63', 'lag_35', 'lag_53', 'lag_14', 'lag_29', 'lag_19', 'lag_94', 'lag_71']\n",
      "20 1.1350047495916051 1.228057738442309 0.08631960531055555\n",
      "['lag_6', 'lag_5', 'lag_70', 'lag_36', 'lag_91', 'lag_9', 'lag_64', 'lag_37', 'lag_52', 'lag_16', 'lag_28', 'lag_63', 'lag_35', 'lag_53', 'lag_14', 'lag_29', 'lag_19', 'lag_94', 'lag_71', 'lag_95']\n",
      "21 1.139530271888572 1.2286780053155062 0.15477219568223108\n",
      "['lag_6', 'lag_5', 'lag_70', 'lag_36', 'lag_91', 'lag_9', 'lag_64', 'lag_37', 'lag_52', 'lag_16', 'lag_28', 'lag_63', 'lag_35', 'lag_53', 'lag_14', 'lag_29', 'lag_19', 'lag_94', 'lag_71', 'lag_95', 'lag_26']\n"
     ]
    }
   ],
   "source": [
    "av_featlist = np.copy(avail_featlist).tolist()\n",
    "tentative_list = []\n",
    "fixed_list = []\n",
    "max_fslist = 20\n",
    "k = 0\n",
    "df_results = pd.DataFrame(index=[0], columns=[\"Iter\", \"InCV SR\", \"OutCV SR\", \"Hold SR\", \"Max InCV SR\", \"Max Hold SR\", \n",
    "                                              \"Long-only SR\", \"FS\"])\n",
    "\n",
    "while len(av_featlist) != 0 and len(fixed_list) <= max_fslist:\n",
    "    \n",
    "    insr_fs, outsr_fs, holdsr_fs = [], [], []\n",
    "    for fs in av_featlist:\n",
    "        # feature list\n",
    "        feat_list = fixed_list + [fs]\n",
    "        outsample_pred, outsample_obs = np.array([]), np.array([])\n",
    "        \n",
    "        # model and prediction\n",
    "        for fold_num in range(len(ts_folds[\"insample\"].keys())):\n",
    "            # fit model\n",
    "            ml = pred_model.fit(ts.loc[ts_folds[\"insample\"][str(fold_num)], feat_list], \n",
    "                                ts.loc[ts_folds[\"insample\"][str(fold_num)], \"target\"])\n",
    "            \n",
    "            # prediction and obs\n",
    "            outsample_pred = np.concatenate([outsample_pred, \n",
    "                                             ml.predict(ts.loc[ts_folds[\"outsample\"][str(fold_num)], feat_list])])\n",
    "            outsample_obs = np.concatenate([outsample_obs, \n",
    "                                            ts.loc[ts_folds[\"outsample\"][str(fold_num)], \"target\"]])\n",
    "            \n",
    "        # compute performance\n",
    "        insr_fs.append(SR(ml.predict(ts.loc[ts_folds[\"insample\"][str(fold_num)], feat_list]) * \n",
    "                         ts.loc[ts_folds[\"insample\"][str(fold_num)], \"target\"]))\n",
    "        outsr_fs.append(SR(outsample_pred * outsample_obs))\n",
    "        holdsr_fs.append(SR(ml.predict(ts.loc[ts_folds[\"holdout\"], feat_list]) * \n",
    "                         ts.loc[ts_folds[\"holdout\"], \"target\"]))\n",
    "            \n",
    "    # get best feature and remove from available list\n",
    "    get_fs = av_featlist[np.argmax(outsr_fs)]\n",
    "    fixed_list += [get_fs]\n",
    "    av_featlist.pop(np.argmax(outsr_fs))\n",
    "\n",
    "    # store results\n",
    "    df_results.loc[k, \"Iter\"] = k\n",
    "    df_results.loc[k, \"InCV SR\"] = insr_fs[np.argmax(outsr_fs)]\n",
    "    df_results.loc[k, \"OutCV SR\"] = np.max(outsr_fs)\n",
    "    df_results.loc[k, \"Hold SR\"] = holdsr_fs[np.argmax(outsr_fs)]\n",
    "    df_results.loc[k, \"FS\"] = np.copy(fixed_list)\n",
    "    df_results.loc[k, \"Max InCV SR\"] = np.max(insr_fs)\n",
    "    df_results.loc[k, \"Max Hold SR\"] = np.max(holdsr_fs)\n",
    "    df_results.loc[k, \"Long-only SR\"] = SR(ts[\"target\"].values)\n",
    "    k += 1\n",
    "    print(k, insr_fs[np.argmax(outsr_fs)], np.max(outsr_fs), holdsr_fs[np.argmax(outsr_fs)])\n",
    "    print(fixed_list)         "
   ]
  },
  {
   "cell_type": "code",
   "execution_count": 93,
   "metadata": {},
   "outputs": [
    {
     "data": {
      "text/plain": [
       "<matplotlib.axes._subplots.AxesSubplot at 0x1672d0c29b0>"
      ]
     },
     "execution_count": 93,
     "metadata": {},
     "output_type": "execute_result"
    },
    {
     "data": {
      "image/png": "[encoded data removed]",
      "text/plain": [
       "<Figure size 432x288 with 1 Axes>"
      ]
     },
     "metadata": {},
     "output_type": "display_data"
    }
   ],
   "source": [
    "df_results.loc[:20, [\"InCV SR\", \"OutCV SR\", \"Hold SR\"]].plot()"
   ]
  },
  {
   "cell_type": "markdown",
   "metadata": {},
   "source": [
    "## Feature Selection with Lags - Random Subsets for Every Turn"
   ]
  },
  {
   "cell_type": "code",
   "execution_count": 86,
   "metadata": {},
   "outputs": [
    {
     "name": "stdout",
     "output_type": "stream",
     "text": [
      "1 0.45945492822242284 0.7291700786286394 0.2718526693324954\n",
      "['lag_16']\n",
      "2 0.5592074449070475 0.9504030658400238 0.2901476968068395\n",
      "['lag_16', 'lag_6']\n",
      "3 0.6076657359541998 1.0144133018066086 0.3985114967749481\n",
      "['lag_16', 'lag_6', 'lag_19']\n",
      "4 0.6462415494491179 1.0997397725884535 0.42775445170420284\n",
      "['lag_16', 'lag_6', 'lag_19', 'lag_29']\n",
      "5 0.6557501524011783 1.1355938314371712 0.4852237400972798\n",
      "['lag_16', 'lag_6', 'lag_19', 'lag_29', 'lag_35']\n",
      "6 0.6860672766378125 1.1928954237331693 0.6424930933780707\n",
      "['lag_16', 'lag_6', 'lag_19', 'lag_29', 'lag_35', 'lag_64']\n",
      "7 0.7284663875169067 1.24507383856633 0.6387562567836867\n",
      "['lag_16', 'lag_6', 'lag_19', 'lag_29', 'lag_35', 'lag_64', 'lag_36']\n",
      "8 0.7733791564216936 1.3773559811562073 0.7119366242413215\n",
      "['lag_16', 'lag_6', 'lag_19', 'lag_29', 'lag_35', 'lag_64', 'lag_36', 'lag_5']\n",
      "9 0.8226506963771062 1.4101229838710636 0.6382240718281305\n",
      "['lag_16', 'lag_6', 'lag_19', 'lag_29', 'lag_35', 'lag_64', 'lag_36', 'lag_5', 'lag_37']\n",
      "10 0.8603678734955987 1.4325661930672136 0.5104884908217187\n",
      "['lag_16', 'lag_6', 'lag_19', 'lag_29', 'lag_35', 'lag_64', 'lag_36', 'lag_5', 'lag_37', 'lag_28']\n",
      "11 0.9273538350275812 1.4875197843864876 0.3041854486598527\n",
      "['lag_16', 'lag_6', 'lag_19', 'lag_29', 'lag_35', 'lag_64', 'lag_36', 'lag_5', 'lag_37', 'lag_28', 'lag_70']\n",
      "12 0.9441813387447647 1.5209127985837987 0.2847160585565134\n",
      "['lag_16', 'lag_6', 'lag_19', 'lag_29', 'lag_35', 'lag_64', 'lag_36', 'lag_5', 'lag_37', 'lag_28', 'lag_70', 'lag_52']\n",
      "13 0.9496617696365198 1.5368755316070972 0.293337349689414\n",
      "['lag_16', 'lag_6', 'lag_19', 'lag_29', 'lag_35', 'lag_64', 'lag_36', 'lag_5', 'lag_37', 'lag_28', 'lag_70', 'lag_52', 'lag_86']\n",
      "14 0.9592411212792505 1.5410437126598904 0.2998986904198659\n",
      "['lag_16', 'lag_6', 'lag_19', 'lag_29', 'lag_35', 'lag_64', 'lag_36', 'lag_5', 'lag_37', 'lag_28', 'lag_70', 'lag_52', 'lag_86', 'lag_94']\n",
      "15 0.9593701631608573 1.5207362111305325 0.29164446380027753\n",
      "['lag_16', 'lag_6', 'lag_19', 'lag_29', 'lag_35', 'lag_64', 'lag_36', 'lag_5', 'lag_37', 'lag_28', 'lag_70', 'lag_52', 'lag_86', 'lag_94', 'lag_61']\n",
      "16 0.9637542436420306 1.526963856793779 0.27597785741883357\n",
      "['lag_16', 'lag_6', 'lag_19', 'lag_29', 'lag_35', 'lag_64', 'lag_36', 'lag_5', 'lag_37', 'lag_28', 'lag_70', 'lag_52', 'lag_86', 'lag_94', 'lag_61', 'lag_95']\n",
      "17 0.9734254907762975 1.5469129850301544 0.2565281748147643\n",
      "['lag_16', 'lag_6', 'lag_19', 'lag_29', 'lag_35', 'lag_64', 'lag_36', 'lag_5', 'lag_37', 'lag_28', 'lag_70', 'lag_52', 'lag_86', 'lag_94', 'lag_61', 'lag_95', 'lag_43']\n",
      "18 0.9746454273944269 1.539353101640221 0.2411025675671555\n",
      "['lag_16', 'lag_6', 'lag_19', 'lag_29', 'lag_35', 'lag_64', 'lag_36', 'lag_5', 'lag_37', 'lag_28', 'lag_70', 'lag_52', 'lag_86', 'lag_94', 'lag_61', 'lag_95', 'lag_43', 'lag_78']\n",
      "19 1.0430622228751378 1.5387773519677306 0.05907039646731655\n",
      "['lag_16', 'lag_6', 'lag_19', 'lag_29', 'lag_35', 'lag_64', 'lag_36', 'lag_5', 'lag_37', 'lag_28', 'lag_70', 'lag_52', 'lag_86', 'lag_94', 'lag_61', 'lag_95', 'lag_43', 'lag_78', 'lag_91']\n",
      "20 1.0604083552343713 1.5381066027311299 0.09542686526026489\n",
      "['lag_16', 'lag_6', 'lag_19', 'lag_29', 'lag_35', 'lag_64', 'lag_36', 'lag_5', 'lag_37', 'lag_28', 'lag_70', 'lag_52', 'lag_86', 'lag_94', 'lag_61', 'lag_95', 'lag_43', 'lag_78', 'lag_91', 'lag_63']\n",
      "21 1.077822674246491 1.5463158925416152 0.0815516650360114\n",
      "['lag_16', 'lag_6', 'lag_19', 'lag_29', 'lag_35', 'lag_64', 'lag_36', 'lag_5', 'lag_37', 'lag_28', 'lag_70', 'lag_52', 'lag_86', 'lag_94', 'lag_61', 'lag_95', 'lag_43', 'lag_78', 'lag_91', 'lag_63', 'lag_47']\n"
     ]
    }
   ],
   "source": [
    "av_featlist = np.copy(avail_featlist).tolist()\n",
    "tentative_list = []\n",
    "fixed_list = []\n",
    "rsubsets = 4\n",
    "max_fslist = 20\n",
    "k = 0\n",
    "df_results = pd.DataFrame(index=[0], columns=[\"Iter\", \"InCV SR\", \"OutCV SR\", \"Hold SR\", \"Max InCV SR\", \"Max Hold SR\", \n",
    "                                              \"Long-only SR\", \"FS\"])\n",
    "\n",
    "while len(av_featlist) != 0 and len(fixed_list) <= max_fslist:\n",
    "    \n",
    "    insr_fs, outsr_fs, holdsr_fs = [], [], []\n",
    "    random_tscv = np.random.permutation(range(len(ts_folds[\"insample\"].keys())))[:rsubsets].tolist()\n",
    "    for fs in av_featlist:\n",
    "        # feature list\n",
    "        feat_list = fixed_list + [fs]\n",
    "        outsample_pred, outsample_obs = np.array([]), np.array([])\n",
    "        \n",
    "        # model and prediction\n",
    "        for fold_num in np.sort(random_tscv):\n",
    "            # fit model\n",
    "            ml = pred_model.fit(ts.loc[ts_folds[\"insample\"][str(fold_num)], feat_list], \n",
    "                                ts.loc[ts_folds[\"insample\"][str(fold_num)], \"target\"])\n",
    "            \n",
    "            # prediction and obs\n",
    "            outsample_pred = np.concatenate([outsample_pred, \n",
    "                                             ml.predict(ts.loc[ts_folds[\"outsample\"][str(fold_num)], feat_list])])\n",
    "            outsample_obs = np.concatenate([outsample_obs, \n",
    "                                            ts.loc[ts_folds[\"outsample\"][str(fold_num)], \"target\"]])\n",
    "            \n",
    "        # compute performance\n",
    "        insr_fs.append(SR(ml.predict(ts.loc[ts_folds[\"insample\"][str(fold_num)], feat_list]) * \n",
    "                         ts.loc[ts_folds[\"insample\"][str(fold_num)], \"target\"]))\n",
    "        outsr_fs.append(SR(outsample_pred * outsample_obs))\n",
    "        holdsr_fs.append(SR(ml.predict(ts.loc[ts_folds[\"holdout\"], feat_list]) * \n",
    "                         ts.loc[ts_folds[\"holdout\"], \"target\"]))\n",
    "            \n",
    "    # get best feature and remove from available list\n",
    "    get_fs = av_featlist[np.argmax(outsr_fs)]\n",
    "    fixed_list += [get_fs]\n",
    "    av_featlist.pop(np.argmax(outsr_fs))\n",
    "\n",
    "    # store results\n",
    "    df_results.loc[k, \"Iter\"] = k\n",
    "    df_results.loc[k, \"InCV SR\"] = insr_fs[np.argmax(outsr_fs)]\n",
    "    df_results.loc[k, \"OutCV SR\"] = np.max(outsr_fs)\n",
    "    df_results.loc[k, \"Hold SR\"] = holdsr_fs[np.argmax(outsr_fs)]\n",
    "    df_results.loc[k, \"FS\"] = np.copy(fixed_list)\n",
    "    df_results.loc[k, \"Max InCV SR\"] = np.max(insr_fs)\n",
    "    df_results.loc[k, \"Max Hold SR\"] = np.max(holdsr_fs)\n",
    "    df_results.loc[k, \"Long-only SR\"] = SR(ts[\"target\"].values)\n",
    "    k += 1\n",
    "    print(k, insr_fs[np.argmax(outsr_fs)], np.max(outsr_fs), holdsr_fs[np.argmax(outsr_fs)])\n",
    "    print(fixed_list)         "
   ]
  },
  {
   "cell_type": "code",
   "execution_count": 85,
   "metadata": {},
   "outputs": [
    {
     "data": {
      "text/plain": [
       "<matplotlib.axes._subplots.AxesSubplot at 0x16723ba6ac8>"
      ]
     },
     "execution_count": 85,
     "metadata": {},
     "output_type": "execute_result"
    },
    {
     "data": {
      "image/png": "[encoded data removed]",
      "text/plain": [
       "<Figure size 432x288 with 1 Axes>"
      ]
     },
     "metadata": {},
     "output_type": "display_data"
    }
   ],
   "source": [
    "df_results.loc[:20, [\"InCV SR\", \"OutCV SR\", \"Hold SR\"]].plot()"
   ]
  },
  {
   "cell_type": "markdown",
   "metadata": {},
   "source": [
    "## Feature Selection using Lags - Random subsets different for every feature attempted"
   ]
  },
  {
   "cell_type": "code",
   "execution_count": 32,
   "metadata": {},
   "outputs": [
    {
     "name": "stdout",
     "output_type": "stream",
     "text": [
      "1 0.21634362282799696 0.8552839656636296 -0.2907035159689069\n",
      "['lag_53']\n",
      "2 0.47896802806537575 0.9464614887266207 -0.1381022295488723\n",
      "['lag_53', 'lag_86']\n",
      "3 0.4399090695129984 0.913733428212416 -0.24840932444264077\n",
      "['lag_53', 'lag_86', 'lag_65']\n",
      "4 0.48712428677494424 1.1329937258806293 -0.22464084802835385\n",
      "['lag_53', 'lag_86', 'lag_65', 'lag_42']\n",
      "5 0.5107940190665712 1.035396350330046 -0.21939986939344333\n",
      "['lag_53', 'lag_86', 'lag_65', 'lag_42', 'lag_91']\n",
      "6 0.5308013796007955 1.187020995041458 -0.2323637943140896\n",
      "['lag_53', 'lag_86', 'lag_65', 'lag_42', 'lag_91', 'lag_37']\n",
      "7 0.5741792873806427 1.2476928700331853 -0.3200994980470945\n",
      "['lag_53', 'lag_86', 'lag_65', 'lag_42', 'lag_91', 'lag_37', 'lag_50']\n",
      "8 0.5947032166022195 1.4466844313669953 -0.38050658797544407\n",
      "['lag_53', 'lag_86', 'lag_65', 'lag_42', 'lag_91', 'lag_37', 'lag_50', 'lag_6']\n",
      "9 0.6043689561136064 1.3008700703251677 -0.3597249212121747\n",
      "['lag_53', 'lag_86', 'lag_65', 'lag_42', 'lag_91', 'lag_37', 'lag_50', 'lag_6', 'lag_3']\n",
      "10 0.6440436921855534 1.361292355134104 -0.2932858998591426\n",
      "['lag_53', 'lag_86', 'lag_65', 'lag_42', 'lag_91', 'lag_37', 'lag_50', 'lag_6', 'lag_3', 'lag_21']\n",
      "11 0.6731460942867452 1.3861253502775213 -0.3355025012003233\n",
      "['lag_53', 'lag_86', 'lag_65', 'lag_42', 'lag_91', 'lag_37', 'lag_50', 'lag_6', 'lag_3', 'lag_21', 'lag_20']\n",
      "12 0.7540107687568076 1.25092000798891 -0.2932457628185167\n",
      "['lag_53', 'lag_86', 'lag_65', 'lag_42', 'lag_91', 'lag_37', 'lag_50', 'lag_6', 'lag_3', 'lag_21', 'lag_20', 'lag_71']\n",
      "13 0.8564143728375646 1.1114088729503393 -0.5243697154550504\n",
      "['lag_53', 'lag_86', 'lag_65', 'lag_42', 'lag_91', 'lag_37', 'lag_50', 'lag_6', 'lag_3', 'lag_21', 'lag_20', 'lag_71', 'lag_36']\n",
      "14 0.9223067010787641 1.2844575853954234 -0.506345442436643\n",
      "['lag_53', 'lag_86', 'lag_65', 'lag_42', 'lag_91', 'lag_37', 'lag_50', 'lag_6', 'lag_3', 'lag_21', 'lag_20', 'lag_71', 'lag_36', 'lag_9']\n",
      "15 0.9524755575332958 1.3565875316244274 -0.5228456229532022\n",
      "['lag_53', 'lag_86', 'lag_65', 'lag_42', 'lag_91', 'lag_37', 'lag_50', 'lag_6', 'lag_3', 'lag_21', 'lag_20', 'lag_71', 'lag_36', 'lag_9', 'lag_58']\n",
      "16 0.9890769241734131 1.341466600358308 -0.5453681184872146\n",
      "['lag_53', 'lag_86', 'lag_65', 'lag_42', 'lag_91', 'lag_37', 'lag_50', 'lag_6', 'lag_3', 'lag_21', 'lag_20', 'lag_71', 'lag_36', 'lag_9', 'lag_58', 'lag_51']\n",
      "17 0.9909044966196772 1.3803329446660724 -0.5413403528240849\n",
      "['lag_53', 'lag_86', 'lag_65', 'lag_42', 'lag_91', 'lag_37', 'lag_50', 'lag_6', 'lag_3', 'lag_21', 'lag_20', 'lag_71', 'lag_36', 'lag_9', 'lag_58', 'lag_51', 'lag_56']\n",
      "18 1.0065444141150692 1.4231668038969942 -0.551536318375064\n",
      "['lag_53', 'lag_86', 'lag_65', 'lag_42', 'lag_91', 'lag_37', 'lag_50', 'lag_6', 'lag_3', 'lag_21', 'lag_20', 'lag_71', 'lag_36', 'lag_9', 'lag_58', 'lag_51', 'lag_56', 'lag_78']\n",
      "19 1.0182631276539758 1.3368908632152805 -0.5556858541942523\n",
      "['lag_53', 'lag_86', 'lag_65', 'lag_42', 'lag_91', 'lag_37', 'lag_50', 'lag_6', 'lag_3', 'lag_21', 'lag_20', 'lag_71', 'lag_36', 'lag_9', 'lag_58', 'lag_51', 'lag_56', 'lag_78', 'lag_69']\n",
      "20 1.0069311144423079 1.3722893870267447 -0.5772053300265971\n",
      "['lag_53', 'lag_86', 'lag_65', 'lag_42', 'lag_91', 'lag_37', 'lag_50', 'lag_6', 'lag_3', 'lag_21', 'lag_20', 'lag_71', 'lag_36', 'lag_9', 'lag_58', 'lag_51', 'lag_56', 'lag_78', 'lag_69', 'lag_19']\n",
      "21 1.000046789850721 1.3764633455398545 -0.5353970613640563\n",
      "['lag_53', 'lag_86', 'lag_65', 'lag_42', 'lag_91', 'lag_37', 'lag_50', 'lag_6', 'lag_3', 'lag_21', 'lag_20', 'lag_71', 'lag_36', 'lag_9', 'lag_58', 'lag_51', 'lag_56', 'lag_78', 'lag_69', 'lag_19', 'lag_85']\n"
     ]
    }
   ],
   "source": [
    "av_featlist = np.copy(avail_featlist).tolist()\n",
    "tentative_list = []\n",
    "fixed_list = []\n",
    "rsubsets = 4\n",
    "max_fslist = 20\n",
    "k = 0\n",
    "df_results = pd.DataFrame(index=[0], columns=[\"Iter\", \"InCV SR\", \"OutCV SR\", \"Hold SR\", \"Max InCV SR\", \"Max Hold SR\", \n",
    "                                              \"Long-only SR\", \"FS\"])\n",
    "\n",
    "while len(av_featlist) != 0 and len(fixed_list) <= max_fslist:\n",
    "    \n",
    "    insr_fs, outsr_fs, holdsr_fs = [], [], []\n",
    "    for fs in av_featlist:\n",
    "        # feature list\n",
    "        feat_list = fixed_list + [fs]\n",
    "        outsample_pred, outsample_obs = np.array([]), np.array([])\n",
    "        \n",
    "        # model and prediction\n",
    "        random_tscv = np.random.permutation(range(len(ts_folds[\"insample\"].keys())))[:rsubsets].tolist()\n",
    "        for fold_num in np.sort(random_tscv):\n",
    "            # fit model\n",
    "            ml = pred_model.fit(ts.loc[ts_folds[\"insample\"][str(fold_num)], feat_list], \n",
    "                                ts.loc[ts_folds[\"insample\"][str(fold_num)], \"target\"])\n",
    "            \n",
    "            # prediction and obs\n",
    "            outsample_pred = np.concatenate([outsample_pred, \n",
    "                                             ml.predict(ts.loc[ts_folds[\"outsample\"][str(fold_num)], feat_list])])\n",
    "            outsample_obs = np.concatenate([outsample_obs, \n",
    "                                            ts.loc[ts_folds[\"outsample\"][str(fold_num)], \"target\"]])\n",
    "            \n",
    "        # compute performance\n",
    "        insr_fs.append(SR(ml.predict(ts.loc[ts_folds[\"insample\"][str(fold_num)], feat_list]) * \n",
    "                         ts.loc[ts_folds[\"insample\"][str(fold_num)], \"target\"]))\n",
    "        outsr_fs.append(SR(outsample_pred * outsample_obs))\n",
    "        holdsr_fs.append(SR(ml.predict(ts.loc[ts_folds[\"holdout\"], feat_list]) * \n",
    "                         ts.loc[ts_folds[\"holdout\"], \"target\"]))\n",
    "            \n",
    "    # get best feature and remove from available list\n",
    "    get_fs = av_featlist[np.argmax(outsr_fs)]\n",
    "    fixed_list += [get_fs]\n",
    "    av_featlist.pop(np.argmax(outsr_fs))\n",
    "\n",
    "    # store results\n",
    "    df_results.loc[k, \"Iter\"] = k\n",
    "    df_results.loc[k, \"InCV SR\"] = insr_fs[np.argmax(outsr_fs)]\n",
    "    df_results.loc[k, \"OutCV SR\"] = np.max(outsr_fs)\n",
    "    df_results.loc[k, \"Hold SR\"] = holdsr_fs[np.argmax(outsr_fs)]\n",
    "    df_results.loc[k, \"FS\"] = np.copy(fixed_list)\n",
    "    df_results.loc[k, \"Max InCV SR\"] = np.max(insr_fs)\n",
    "    df_results.loc[k, \"Max Hold SR\"] = np.max(holdsr_fs)\n",
    "    df_results.loc[k, \"Long-only SR\"] = SR(ts[\"target\"].values)\n",
    "    k += 1\n",
    "    print(k, insr_fs[np.argmax(outsr_fs)], np.max(outsr_fs), holdsr_fs[np.argmax(outsr_fs)])\n",
    "    print(fixed_list)         "
   ]
  },
  {
   "cell_type": "code",
   "execution_count": 33,
   "metadata": {},
   "outputs": [
    {
     "data": {
      "text/plain": [
       "<matplotlib.axes._subplots.AxesSubplot at 0x1672b841c88>"
      ]
     },
     "execution_count": 33,
     "metadata": {},
     "output_type": "execute_result"
    },
    {
     "data": {
      "image/png": "[encoded data removed]",
      "text/plain": [
       "<Figure size 432x288 with 1 Axes>"
      ]
     },
     "metadata": {},
     "output_type": "display_data"
    }
   ],
   "source": [
    "df_results.loc[:20, [\"InCV SR\", \"OutCV SR\", \"Hold SR\"]].plot()"
   ]
  }
 ],
 "metadata": {
  "kernelspec": {
   "display_name": "Python 3",
   "language": "python",
   "name": "python3"
  },
  "language_info": {
   "codemirror_mode": {
    "name": "ipython",
    "version": 3
   },
   "file_extension": ".py",
   "mimetype": "text/x-python",
   "name": "python",
   "nbconvert_exporter": "python",
   "pygments_lexer": "ipython3",
   "version": "3.6.5"
  }
 },
 "nbformat": 4,
 "nbformat_minor": 2
}
